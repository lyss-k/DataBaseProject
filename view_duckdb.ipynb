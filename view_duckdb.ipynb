{
 "cells": [
  {
   "cell_type": "code",
   "execution_count": 1,
   "id": "98861315",
   "metadata": {},
   "outputs": [
    {
     "name": "stdout",
     "output_type": "stream",
     "text": [
      "Empty DataFrame\n",
      "Columns: [Experiment_ID, Experiment_Name, Experiment_Description, Experiment_Status, StartTimeStamp, EndTimeStamp, Author_Name, DataSet_ID, Dataset_Name, Dataset_Version, Dataset_Size, Dataset_Description, Model_ID, Model_Name, Model_Type, Model_Version, Model_Hyperparameters, Trial_ID, Trial_Status, Trial_Start, Trial_End, Trial_Seed, Hyperparameter_ID, Hyperparameter_Type, Epochs, Hyperparameter_Value, Metric_ID, Metric_Name, Metric_Value, Metric_Timestamp, Composite_ID, rn]\n",
      "Index: []\n",
      "\n",
      "[0 rows x 32 columns]\n",
      "Index(['Experiment_ID', 'Experiment_Name', 'Experiment_Description',\n",
      "       'Experiment_Status', 'StartTimeStamp', 'EndTimeStamp', 'Author_Name',\n",
      "       'DataSet_ID', 'Dataset_Name', 'Dataset_Version', 'Dataset_Size',\n",
      "       'Dataset_Description', 'Model_ID', 'Model_Name', 'Model_Type',\n",
      "       'Model_Version', 'Model_Hyperparameters', 'Trial_ID', 'Trial_Status',\n",
      "       'Trial_Start', 'Trial_End', 'Trial_Seed', 'Hyperparameter_ID',\n",
      "       'Hyperparameter_Type', 'Epochs', 'Hyperparameter_Value', 'Metric_ID',\n",
      "       'Metric_Name', 'Metric_Value', 'Metric_Timestamp', 'Composite_ID',\n",
      "       'rn'],\n",
      "      dtype='object')\n"
     ]
    }
   ],
   "source": [
    "import duckdb\n",
    "\n",
    "con = duckdb.connect(\"mled_analytics.duckdb\")\n",
    "df = con.execute(\"SELECT * FROM experiment_flat\").fetchdf()\n",
    "print(df.head())\n",
    "print(df.columns)"
   ]
  }
 ],
 "metadata": {
  "kernelspec": {
   "display_name": "Python 3",
   "language": "python",
   "name": "python3"
  },
  "language_info": {
   "codemirror_mode": {
    "name": "ipython",
    "version": 3
   },
   "file_extension": ".py",
   "mimetype": "text/x-python",
   "name": "python",
   "nbconvert_exporter": "python",
   "pygments_lexer": "ipython3",
   "version": "3.13.1"
  }
 },
 "nbformat": 4,
 "nbformat_minor": 5
}
